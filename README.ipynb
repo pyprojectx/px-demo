{
 "cells": [
  {
   "cell_type": "markdown",
   "id": "3709c81e",
   "metadata": {},
   "source": [
    "Open [README.ipynb](README.ipynb) to view the full README (unfortunately github does not render notebook readme's)\n",
    "\n",
    "# Pyprojectx demo project\n",
    "\n",
    "Make it easy for your co-developers/contributors/tutorial readers to get started with your python project.\n",
    "\n",
    "If you have python 3.8+ and git installed, you're ready to go. No need to install jupyter, libraries, etc.\n",
    "\n",
    "Clone the project and start experimenting:\n",
    "\n",
    "```shell\n",
    "git clone https://github.com/houbie/px-demo.git\n",
    "./pw notebook\n",
    "```\n",
    "\n",
    "Pyprojectx(https://github.com/houbie/pyprojectx) can turn your [pyproject.toml](./pyproject.toml)\n",
    "config file into an executable build script.\n",
    "\n",
    "\n",
    "Things you can try out:\n",
    "* show help: `./pw --help` or `./pw -h`\n",
    "* show available tools and commands: `./pw --info` or `./pw -i`\n",
    "* run a pdm command: `./pw pdm --help`\n",
    "* use httpie to execute https commands: `./pw https --help`\n",
    "* just type the first letters if you don't remember the full command: `./pw c`\n",
    "* just type enough (camel case) letters to identify an aliased command:\n",
    "  * `./pw post-json`  \n",
    "  * `./pw pJ`\n",
    "  * `./pw p`\n"
   ]
  },
  {
   "cell_type": "markdown",
   "id": "267ba029",
   "metadata": {},
   "source": [
    "## Python libraries\n",
    "Make it a habit to manage the libraries that you use with a decent dependency manager like [Poetry](https://python-poetry.org/) or [PDM](https://pdm.fming.dev/).\n",
    "\n",
    "So instead of using a _requirements.txt_, or worse, `pip install` instructions, list your dependencies in _pyproject.toml_.\n",
    "\n",
    "No need to install anything, the pyprojectx wrapper script will make sure that the tools are available.\n",
    "All the required tools are installed inside the project dir (cfg. npm dev dependencies).\n",
    "\n",
    "Experimenting with your code in a Jupyter notebook f.e., becomes as easy as `./pw notebook`.\n",
    "\n",
    "**NOTE:** you need to restart the notebook kernel to activate changes to the project."
   ]
  },
  {
   "cell_type": "code",
   "execution_count": 2,
   "id": "7e28d575",
   "metadata": {
    "scrolled": true
   },
   "outputs": [
    {
     "name": "stdout",
     "output_type": "stream",
     "text": [
      "running project code\n",
      "\n",
      "  -------\n",
      "< px moo! >\n",
      "  -------\n",
      "   \\   ^__^\n",
      "    \\  (oo)\\_______\n",
      "       (__)\\       )\\/\\\n",
      "           ||----w |\n",
      "           ||     ||\n",
      "\n",
      "using pycowsay library\n",
      "\n",
      "  -----------------------------------------------------------------------------------------\n",
      "< -f /Users/ihoubr/Library/Jupyter/runtime/kernel-ac45e825-c100-4a90-a902-52a22a5f278c.json >\n",
      "  -----------------------------------------------------------------------------------------\n",
      "   \\   ^__^\n",
      "    \\  (oo)\\_______\n",
      "       (__)\\       )\\/\\\n",
      "           ||----w |\n",
      "           ||     ||\n",
      "\n"
     ]
    }
   ],
   "source": [
    "# the project and all required libraries are automatically available here\n",
    "from pycowsay.main import main as cowsay\n",
    "\n",
    "from px_demo import moo\n",
    "\n",
    "print(\"running project code\")\n",
    "moo.say_moo()\n",
    "\n",
    "print(\"using pycowsay library\")\n",
    "cowsay()"
   ]
  },
  {
   "cell_type": "markdown",
   "id": "1d3ece4e",
   "metadata": {},
   "source": [
    "## Lightweight\n",
    "The _pw_ wrapper script installs all the (Python) tools that your project uses in isolated virtual environments inside \n",
    "_.pyprojectx_.\n",
    "\n",
    "This is analogous to how npm stores everything in the _node_modules_ subdirectory of your project directory.\n",
    "\n",
    "All commands and arguments are then forwarded to the resp. virtual environment by just typing _./pw_ in front."
   ]
  },
  {
   "cell_type": "markdown",
   "id": "1e04aa264b126d49",
   "metadata": {
    "collapsed": false,
    "jupyter": {
     "outputs_hidden": false
    },
    "pycharm": {
     "name": "#%% md\n"
    }
   },
   "source": [
    "## Simplified CI/CD pipelines\n",
    "Run tests and build a distribution with `./pw build`. See it in action in this project's [github action workflow](.github/workflows/build.yml) or\n",
    "the [pyprojectx workflow](https://github.com/houbie/pyprojectx/tree/main/.github/workflows) for a full example.\n",
    "\n",
    "> **_NOTE:_**  If your CI/CD server runs on both linux and windows, you can merge the linux style `./pw build` and the windows style `pw build`\n",
    "> into a single command: `python pw build`"
   ]
  },
  {
   "cell_type": "markdown",
   "id": "af19a5fb",
   "metadata": {
    "collapsed": false,
    "jupyter": {
     "outputs_hidden": false
    }
   },
   "source": [
    "## Getting started with pyprojectx in your own project\n",
    "See the [documentation](https://pyprojectx.github.io/) for more details."
   ]
  }
 ],
 "metadata": {
  "kernelspec": {
   "display_name": "Python 3 (ipykernel)",
   "language": "python",
   "name": "python3"
  },
  "language_info": {
   "codemirror_mode": {
    "name": "ipython",
    "version": 3
   },
   "file_extension": ".py",
   "mimetype": "text/x-python",
   "name": "python",
   "nbconvert_exporter": "python",
   "pygments_lexer": "ipython3",
   "version": "3.12.2"
  }
 },
 "nbformat": 4,
 "nbformat_minor": 5
}
